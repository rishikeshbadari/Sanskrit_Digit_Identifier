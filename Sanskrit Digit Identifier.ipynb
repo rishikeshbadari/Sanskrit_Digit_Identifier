{
 "cells": [
  {
   "cell_type": "code",
   "execution_count": null,
   "id": "b212c6b8",
   "metadata": {},
   "outputs": [],
   "source": [
    "import numpy as np   \n",
    "from PIL import Image\n",
    "from IPython.display import display\n",
    "import pandas as pd\n",
    "import matplotlib.pyplot as plt      \n",
    "import random                        \n",
    "import keras\n",
    "from keras.datasets import mnist\n",
    "from keras.models import Sequential  \n",
    "from keras.layers import Dense, Dropout, Activation \n",
    "from tensorflow.keras.utils import to_categorical"
   ]
  },
  {
   "cell_type": "code",
   "execution_count": null,
   "id": "1368e239",
   "metadata": {},
   "outputs": [],
   "source": [
    "def show_image_from_array(array_784):\n",
    "    if len(array_784) != 784:\n",
    "        print(\"Input array length should be 784.\")\n",
    "        return\n",
    "    \n",
    "    img_array = np.array(array_784).reshape((28, 28))\n",
    "    img = Image.fromarray(img_array.astype(np.uint8))\n",
    "    display(img)"
   ]
  },
  {
   "cell_type": "code",
   "execution_count": null,
   "id": "24d1b28f",
   "metadata": {},
   "outputs": [],
   "source": [
    "from IPython.display import display, Image\n",
    "from PIL import Image\n",
    "import os\n",
    "\n",
    "X_train = []\n",
    "y_train = []\n",
    "count = 1\n",
    "countToLetter = {}\n",
    "for file in os.listdir(os.path.join(os.getcwd(), 'DevanagariHandwrittenCharacterDataset', 'Train')):\n",
    "    if(file == ('.DS_Store')):\n",
    "        continue\n",
    "    directory = os.path.join(os.getcwd(), 'DevanagariHandwrittenCharacterDataset', 'Train', file)\n",
    "    filesInDirectory = os.listdir(directory)\n",
    "    for innerFiles in filesInDirectory:\n",
    "        image_path = os.path.join(directory, innerFiles)\n",
    "        img = Image.open(image_path)\n",
    "        img = img.convert('L')\n",
    "        img = img.resize((28, 28), Image.BILINEAR)\n",
    "        img_array = (np.array(img)).flatten()\n",
    "        X_train.append(img_array)\n",
    "        y_train.append(count)\n",
    "    countToLetter[count] = file\n",
    "    count += 1\n",
    "\n",
    "X_train = np.array(X_train)\n",
    "y_train = np.array(y_train)\n",
    "print(X_train.shape)\n",
    "print(y_train.shape)"
   ]
  },
  {
   "cell_type": "code",
   "execution_count": null,
   "id": "d2fb8121",
   "metadata": {},
   "outputs": [],
   "source": [
    "from IPython.display import display, Image\n",
    "from PIL import Image\n",
    "import os\n",
    "\n",
    "X_test = []\n",
    "y_test = []\n",
    "count = 1\n",
    "for file in os.listdir(os.path.join(os.getcwd(), 'DevanagariHandwrittenCharacterDataset', 'Test')):\n",
    "    if(file == ('.DS_Store')):\n",
    "        continue\n",
    "    directory = os.path.join(os.getcwd(), 'DevanagariHandwrittenCharacterDataset', 'Test', file)\n",
    "    filesInDirectory = os.listdir(directory)\n",
    "    for innerFiles in filesInDirectory:\n",
    "        image_path = os.path.join(directory, innerFiles)\n",
    "        img = Image.open(image_path)\n",
    "        img = img.convert('L')\n",
    "        img = img.resize((28, 28), Image.BILINEAR)\n",
    "        img_array = (np.array(img)).flatten()\n",
    "        X_test.append(img_array)\n",
    "        y_test.append(count)\n",
    "    count += 1\n",
    "\n",
    "X_test = np.array(X_test)\n",
    "y_test = np.array(y_test)\n",
    "print(X_train.shape)\n",
    "print(y_train.shape)"
   ]
  },
  {
   "cell_type": "code",
   "execution_count": null,
   "id": "892b4296",
   "metadata": {},
   "outputs": [],
   "source": [
    "from keras.utils import to_categorical\n",
    "\n",
    "no_classes = 47\n",
    "Y_train = to_categorical(y_train, num_classes=no_classes)\n",
    "Y_test = to_categorical(y_test, num_classes=no_classes)"
   ]
  },
  {
   "cell_type": "code",
   "execution_count": null,
   "id": "ca8953a9",
   "metadata": {},
   "outputs": [],
   "source": [
    "model = Sequential()"
   ]
  },
  {
   "cell_type": "code",
   "execution_count": null,
   "id": "26e872c7",
   "metadata": {},
   "outputs": [],
   "source": [
    "model.add(Dense(2048, input_shape=(784,))) \n",
    "model.add(Activation('relu'))\n",
    "model.add(Dropout(0.2))"
   ]
  },
  {
   "cell_type": "code",
   "execution_count": null,
   "id": "32a3863d",
   "metadata": {},
   "outputs": [],
   "source": [
    "model.add(Dense(2048))\n",
    "model.add(Activation('relu'))\n",
    "model.add(Dropout(0.2))"
   ]
  },
  {
   "cell_type": "code",
   "execution_count": null,
   "id": "4126956e",
   "metadata": {},
   "outputs": [],
   "source": [
    "model.add(Dense(47))\n",
    "model.add(Activation('softmax'))"
   ]
  },
  {
   "cell_type": "code",
   "execution_count": null,
   "id": "894c3cff",
   "metadata": {},
   "outputs": [],
   "source": [
    "model.compile(loss='categorical_crossentropy', optimizer='adam', metrics=['accuracy'])"
   ]
  },
  {
   "cell_type": "code",
   "execution_count": null,
   "id": "8db8b6b9",
   "metadata": {},
   "outputs": [],
   "source": [
    "history = model.fit(X_train, Y_train, batch_size=128, epochs=10, verbose=1)"
   ]
  },
  {
   "cell_type": "code",
   "execution_count": null,
   "id": "ea4e610c",
   "metadata": {},
   "outputs": [],
   "source": [
    "score = model.evaluate(X_test, Y_test)\n",
    "print('Test accuracy:', score[1])"
   ]
  },
  {
   "cell_type": "code",
   "execution_count": null,
   "id": "30935d78",
   "metadata": {},
   "outputs": [],
   "source": [
    "model"
   ]
  },
  {
   "cell_type": "code",
   "execution_count": null,
   "id": "41f1f6e9",
   "metadata": {},
   "outputs": [],
   "source": [
    "# Load and preprocess the custom image from your computer\n",
    "import cv2\n",
    "custom_image_path = 'testImage.png'  # Replace with the path to your custom image\n",
    "custom_image = cv2.imread(custom_image_path, cv2.IMREAD_GRAYSCALE)\n",
    "dilated_image = cv2.dilate(custom_image, np.ones((5, 5), np.uint8), iterations=1)\n",
    "custom_image = cv2.resize(dilated_image, (28, 28))  # Resize to match the model's input dimensions\n",
    "custom_image = custom_image.astype('float32') / 255.0  # Normalize pixel values"
   ]
  },
  {
   "cell_type": "code",
   "execution_count": null,
   "id": "09c47a9d",
   "metadata": {},
   "outputs": [],
   "source": [
    "plt.imshow(custom_image, cmap = \"gray\")"
   ]
  },
  {
   "cell_type": "code",
   "execution_count": null,
   "id": "ebad7241",
   "metadata": {},
   "outputs": [],
   "source": [
    "# Reshape the image to match the model's input shape\n",
    "custom_image = custom_image.flatten()\n",
    "custom_image = np.expand_dims(custom_image, axis=0)"
   ]
  },
  {
   "cell_type": "code",
   "execution_count": null,
   "id": "74657672",
   "metadata": {},
   "outputs": [],
   "source": [
    "# Make predictions\n",
    "predictions = model.predict(custom_image)\n",
    "predicted_class = np.argmax(predictions[0])\n",
    "predicted_probabilities = predictions[0]\n",
    "\n",
    "# Print the predicted class and associated probabilities\n",
    "print('Predicted class:', predicted_class)\n",
    "print('Probabilities:', predicted_probabilities)"
   ]
  },
  {
   "cell_type": "code",
   "execution_count": null,
   "id": "9e53b4f8",
   "metadata": {},
   "outputs": [],
   "source": [
    "plt.plot(predicted_probabilities)"
   ]
  },
  {
   "cell_type": "code",
   "execution_count": null,
   "id": "4d90cc3a",
   "metadata": {},
   "outputs": [],
   "source": [
    "countToLetter[predicted_class]"
   ]
  }
 ],
 "metadata": {
  "kernelspec": {
   "display_name": "Python 3 (ipykernel)",
   "language": "python",
   "name": "python3"
  },
  "language_info": {
   "codemirror_mode": {
    "name": "ipython",
    "version": 3
   },
   "file_extension": ".py",
   "mimetype": "text/x-python",
   "name": "python",
   "nbconvert_exporter": "python",
   "pygments_lexer": "ipython3",
   "version": "3.11.4"
  }
 },
 "nbformat": 4,
 "nbformat_minor": 5
}
